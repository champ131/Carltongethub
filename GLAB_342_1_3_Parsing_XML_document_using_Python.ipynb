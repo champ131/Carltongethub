{
  "nbformat": 4,
  "nbformat_minor": 0,
  "metadata": {
    "colab": {
      "provenance": [],
      "include_colab_link": true
    },
    "kernelspec": {
      "name": "python3",
      "display_name": "Python 3"
    },
    "language_info": {
      "name": "python"
    }
  },
  "cells": [
    {
      "cell_type": "markdown",
      "metadata": {
        "id": "view-in-github",
        "colab_type": "text"
      },
      "source": [
        "<a href=\"https://colab.research.google.com/github/champ131/Carltongethub/blob/master/GLAB_342_1_3_Parsing_XML_document_using_Python.ipynb\" target=\"_parent\"><img src=\"https://colab.research.google.com/assets/colab-badge.svg\" alt=\"Open In Colab\"/></a>"
      ]
    },
    {
      "cell_type": "markdown",
      "source": [
        "#**Guided LAB - 342.1.3 - Parsing XML document using Python**\n",
        "\n",
        "---\n",
        "\n"
      ],
      "metadata": {
        "id": "dPa8dDwmlGyn"
      }
    },
    {
      "cell_type": "markdown",
      "source": [
        "##**Objective:**\n",
        "\n",
        " In this Python XML Parser lab, you will learn how to parse XML using Python.\n",
        " By the endo of lab, learners will be able to:\n",
        "\n",
        " * Read XML document by using pythom ElementTree module.\n",
        " * Use parse() function.\n",
        " * Filter elements from XML document."
      ],
      "metadata": {
        "id": "-5MiNcEylTr-"
      }
    },
    {
      "cell_type": "markdown",
      "source": [
        "##**Instructions:**\n",
        "\n",
        "The **xml.etree.ElementTree** module provides a simple and effective way to parse and create XML data.\n",
        "\n",
        "We can get the list of attributes and their values in the root tag. Once we find the attributes, it helps us navigate the XML tree easily.\n",
        "\n",
        "- The parse(“file.xml”) function takes XML file format to parse it. Take a look - The getroot() method returns the root element of ‘my_document.xml’.\n",
        "- We can also filter the results out of the xml tree by using the findall() function of this module."
      ],
      "metadata": {
        "id": "cv2K70kGJ-7F"
      }
    },
    {
      "cell_type": "code",
      "source": [
        "import xml.etree.ElementTree as ET\n",
        "\n",
        "# Parse XML file\n",
        "xml_tree = ET.parse('movie.xml')\n",
        "\n",
        "# Get root element\n",
        "xml_root = xml_tree.getroot()\n",
        "\n",
        "# Print root element tag name\n",
        "print(xml_root.tag)\n",
        "\n",
        "# Get the child elements of the root element\n",
        "child = xml_root.findall(\"movie\")\n",
        "print(child)\n",
        "\n"
      ],
      "metadata": {
        "id": "fX2biV9gKDdz"
      },
      "execution_count": null,
      "outputs": []
    },
    {
      "cell_type": "markdown",
      "source": [
        "- `root.tag` will return the tag name of the XML element represented by the root variable, as shown in the below code example.\n",
        "\n",
        "- `root.attrib` is used to access the attributes of an XML element, as shown in the below code example.\n",
        "\n",
        "**For loop**\n",
        "- You can easily iterate over subelements (commonly called \"children\") in the root by using a simple \"for\" loop, as shown in the below code example."
      ],
      "metadata": {
        "id": "6MwD6H8PamXn"
      }
    },
    {
      "cell_type": "code",
      "source": [
        "print('print name of the Child Elements:')\n",
        "for child in xml_root:\n",
        "      print(child.tag, child.attrib)"
      ],
      "metadata": {
        "id": "yJ_qW4omiBXg"
      },
      "execution_count": null,
      "outputs": []
    },
    {
      "cell_type": "markdown",
      "source": [
        "Now you know that the children of the root collection are all genre. To designate the genre, the XML uses the attribute category. There are Action, Thriller, and Comedy movies according the genre element.\n",
        "\n",
        "Typically it is helpful to know all the elements in the entire tree. One useful function for doing that is **root.iter()**. You can put this function into a \"for\" loop and it will iterate over the entire tree."
      ],
      "metadata": {
        "id": "Nd_TCnz4jP8p"
      }
    },
    {
      "cell_type": "code",
      "source": [
        "[elem.tag for elem in xml_root.iter()]"
      ],
      "metadata": {
        "id": "aBoBZqmyi3MA"
      },
      "execution_count": null,
      "outputs": []
    },
    {
      "cell_type": "markdown",
      "source": [
        "This gives a general notion for how many elements you have, but it does not show the attributes or levels in the tree.\n",
        "\n",
        "There is a helpful way to see the whole document. Any element has a .tostring() method. If you pass the root into the .tostring() method, you can return the whole document. Within ElementTree (remember aliased as ET), .tostring() takes a slightly strange form.\n",
        "\n",
        "Since ElementTree is a powerful library that can interpret more than just XML, you must specify both the encoding and decoding of the document you are displaying as the string. For XMLs, use 'utf8' - this is the typical document format type for an XML."
      ],
      "metadata": {
        "id": "svg6wF9RjtB_"
      }
    },
    {
      "cell_type": "code",
      "source": [
        "print(ET.tostring(xml_root, encoding='utf8').decode('utf8'))"
      ],
      "metadata": {
        "id": "t-I8g3g1jcW_"
      },
      "execution_count": null,
      "outputs": []
    },
    {
      "cell_type": "markdown",
      "source": [
        "You can expand the use of the iter() function to help with finding particular elements of interest. root.iter() will list all subelements under the root that match the element specified. Here, you will list all attributes of the movie element in the tree:"
      ],
      "metadata": {
        "id": "Nn4BFXYzjxPX"
      }
    },
    {
      "cell_type": "code",
      "source": [
        "for movie in xml_root.iter('movie'):\n",
        "  print(movie.attrib)\n"
      ],
      "metadata": {
        "id": "yvtTgTEpj0l2"
      },
      "execution_count": null,
      "outputs": []
    },
    {
      "cell_type": "markdown",
      "source": [
        "##**XPath Expressions**\n",
        "\n",
        "Many times elements will not have attributes, they will only have text content. Using the attribute .text, you can print out this content.\n",
        "\n",
        "Now, print out all the descriptions of the movies."
      ],
      "metadata": {
        "id": "0GStOg3MnSNT"
      }
    },
    {
      "cell_type": "code",
      "source": [
        "for description in xml_root.iter('description'):\n",
        "    print(description.text)"
      ],
      "metadata": {
        "id": "Hqv0egYMnTfM"
      },
      "execution_count": null,
      "outputs": []
    },
    {
      "cell_type": "markdown",
      "source": [
        "Printing out the XML is helpful, but XPath is a query language used to search through an XML quickly and easily. XPath stands for XML Path Language and uses, as the name suggests, a \"path like\" syntax to identify and navigate nodes in an XML document.\n",
        "\n",
        "Understanding XPath is critically important to scanning and populating XMLs. ElementTree has a .findall() function that will traverse the immediate children of the referenced element. You can use XPath expressions to specify more useful searches.\n",
        "\n",
        "Here, you will search the tree for movies that came out in 1992:"
      ],
      "metadata": {
        "id": "G1ODjkWkngX3"
      }
    },
    {
      "cell_type": "code",
      "source": [
        "for movie in xml_root.findall(\"./genre/decade/movie/[year='1992']\"):\n",
        "    print(movie.attrib)"
      ],
      "metadata": {
        "id": "NJxFIxClnjvX"
      },
      "execution_count": null,
      "outputs": []
    },
    {
      "cell_type": "markdown",
      "source": [
        "The function .findall() always begins at the element specified. This type of function is extremely powerful for a \"find and replace\". You can even search on attributes!\n",
        "\n",
        "Now, print out only the movies that are available in multiple formats (an attribute)."
      ],
      "metadata": {
        "id": "t0K8PfEonpKe"
      }
    },
    {
      "cell_type": "code",
      "source": [
        "for movie in xml_root.findall(\"./genre/decade/movie/format/[@multiple='Yes']\"):\n",
        "    print(movie.attrib)"
      ],
      "metadata": {
        "id": "nGT_tNRVnrBR"
      },
      "execution_count": null,
      "outputs": []
    },
    {
      "cell_type": "markdown",
      "source": [
        "Brainstorm why, in this case, the print statement returns the \"Yes\" values of multiple. Think about how the \"for\" loop is defined. Could you rewrite this loop to print out the movie titles instead? Try it below:\n",
        "\n",
        "Tip: use '...' inside of XPath to return the parent element of the current element."
      ],
      "metadata": {
        "id": "hzenXXaVnzSY"
      }
    },
    {
      "cell_type": "code",
      "source": [
        "for movie in xml_root.findall(\"./genre/decade/movie/format[@multiple='Yes']...\"):\n",
        "    print(movie.attrib)\n"
      ],
      "metadata": {
        "id": "8Ogb-gUNn1Ey"
      },
      "execution_count": null,
      "outputs": []
    }
  ]
}